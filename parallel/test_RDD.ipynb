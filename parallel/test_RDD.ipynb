{
 "cells": [
  {
   "cell_type": "code",
   "execution_count": 1,
   "metadata": {},
   "outputs": [],
   "source": [
    "import warnings\n",
    "warnings.filterwarnings('ignore')\n",
    "\n",
    "import matplotlib.pyplot as plt\n",
    "import numpy as np"
   ]
  },
  {
   "cell_type": "code",
   "execution_count": 2,
   "metadata": {},
   "outputs": [],
   "source": [
    "MIN_PTS = 4\n",
    "EPSILON = 900\n",
    "X_UNIT, Y_UNIT = 5000, 5000\n",
    "SPAN_MARGIN = EPSILON/2 + 1\n",
    "NOISE_LABEL = -2"
   ]
  },
  {
   "cell_type": "code",
   "execution_count": 3,
   "metadata": {},
   "outputs": [
    {
     "name": "stderr",
     "output_type": "stream",
     "text": [
      "                                                                                \r"
     ]
    }
   ],
   "source": [
    "# read and organize the data as RDD\n",
    "def parse_line(line):\n",
    "    return [int(x) for x in line.strip().split()]\n",
    "\n",
    "dataset = sc.textFile(\"/Users/apple/spark/data/project/A-sets/a1.txt\")\\\n",
    "    .map(parse_line)\\\n",
    "    .zipWithIndex().map(lambda x: (x[1], x[0]))\\\n",
    "    .filter(lambda x: x[0] < 800) # only keep the first 800 points"
   ]
  },
  {
   "cell_type": "code",
   "execution_count": 4,
   "metadata": {},
   "outputs": [
    {
     "name": "stdout",
     "output_type": "stream",
     "text": [
      "35876 65535 39356 56156 \n",
      "length: 29659 16800\n"
     ]
    }
   ],
   "source": [
    "x_min, x_max = dataset.map(lambda x: x[1][0]).min(), dataset.map(lambda x: x[1][0]).max()\n",
    "y_min, y_max = dataset.map(lambda x: x[1][1]).min(), dataset.map(lambda x: x[1][1]).max()\n",
    "print(x_min, x_max, y_min, y_max, '\\nlength:', x_max-x_min, y_max-y_min)\n",
    "\n",
    "x_grid = list(range(x_min, x_max + X_UNIT, X_UNIT))\n",
    "y_grid = list(range(y_min, y_max + Y_UNIT, Y_UNIT))\n",
    "\n",
    "area_list = []\n",
    "area_cnt = 0\n",
    "for x_idx, x_start in enumerate(x_grid[:-1]):\n",
    "    for y_idx, y_start in enumerate(y_grid[:-1]):\n",
    "        x_start_adjusted = x_start - SPAN_MARGIN\n",
    "        y_start_adjusted = y_start - SPAN_MARGIN\n",
    "        x_end_adjusted = x_grid[x_idx+1] + SPAN_MARGIN\n",
    "        y_end_adjusted = y_grid[y_idx+1] + SPAN_MARGIN\n",
    "        area_list.append([area_cnt, x_start_adjusted, x_end_adjusted, y_start_adjusted, y_end_adjusted])\n",
    "        area_cnt += 1\n",
    "assert len(area_list) == (len(x_grid)-1)*(len(y_grid)-1)\n",
    "\n",
    "# organize the area into an RDD\n",
    "# area_list_rdd = sc.parallelize(area_list)"
   ]
  },
  {
   "cell_type": "code",
   "execution_count": 5,
   "metadata": {},
   "outputs": [],
   "source": [
    "# for each point, find the area it belongs to (a point can belong to multiple areas)\n",
    "def find_area(point):\n",
    "    global area_list\n",
    "    x, y = point\n",
    "    area_idx_list = []\n",
    "    for area in area_list:\n",
    "        if area[1] <= x <= area[2] and area[3] <= y <= area[4]:\n",
    "            area_idx_list.append(area[0])\n",
    "    return area_idx_list\n",
    "\n",
    "data_id_cluster_id_list = dataset.map(lambda x: (x[0], find_area(x[1]), x[1]))\n",
    "# format: (data_id, \n",
    "#          [area_id1, area_id2, ...], \n",
    "#          (x, y)\n",
    "#         )\n",
    "\n",
    "# convert to: (area_id, [(point_id, (x, y)), (point_id, (x,y)), ...])\n",
    "area_id_point_id_list = data_id_cluster_id_list.flatMap(\n",
    "    lambda x: [(area_id, (x[0], x[2])) for area_id in x[1]])\\\n",
    "    .groupByKey().map(lambda x: (x[0], list(x[1])))"
   ]
  },
  {
   "cell_type": "code",
   "execution_count": 6,
   "metadata": {},
   "outputs": [],
   "source": [
    "# convert the data in an area to a numpy array\n",
    "# 3 columns: data_id, x, y\n",
    "def convert_to_np_array(data_list):\n",
    "    return np.array([[x[0], x[1][0], x[1][1]] for x in data_list])\n",
    "\n",
    "area_id_np_array = area_id_point_id_list.mapValues(convert_to_np_array)"
   ]
  },
  {
   "cell_type": "code",
   "execution_count": 7,
   "metadata": {},
   "outputs": [],
   "source": [
    "import numpy as np\n",
    "\n",
    "def dbscan_inline(data, eps, min_pts):\n",
    "    '''\n",
    "    data: np.array, shape=(N, 2)\n",
    "    eps: float\n",
    "    min_pts: int\n",
    "    \n",
    "    Returns:\n",
    "    labels: np.array, shape=(N,)\n",
    "    '''\n",
    "    def find_neighbors(data, point, eps):\n",
    "        neighbors_id = []\n",
    "        for i, p in enumerate(data):\n",
    "            if np.linalg.norm(p - point) < eps:\n",
    "                neighbors_id.append(i)\n",
    "        return neighbors_id\n",
    "    \n",
    "    N = data.shape[0]\n",
    "    labels = np.zeros(N, dtype=int) - 1 # -1: unclassified, -2: noise, 1, 2, 3, ...: cluster id\n",
    "    c = 0\n",
    "    for i in range(N):\n",
    "        if labels[i] != -1:\n",
    "            continue\n",
    "        neighbors_id = find_neighbors(data, data[i], eps)\n",
    "        if len(neighbors_id) < min_pts:\n",
    "            labels[i] = -2\n",
    "            continue\n",
    "        c += 1\n",
    "        labels[i] = c\n",
    "        neighbors_id_prime = neighbors_id.copy()\n",
    "        assert i in neighbors_id_prime\n",
    "        neighbors_id_prime.remove(i)\n",
    "        for j in neighbors_id_prime:\n",
    "            if labels[j] == -2:\n",
    "                labels[j] = c\n",
    "            if labels[j] != -1:\n",
    "                continue\n",
    "            labels[j] = c\n",
    "            neighbors_j = find_neighbors(data, data[j], eps)\n",
    "            if len(neighbors_j) >= min_pts:\n",
    "                neighbors_id_prime += neighbors_j\n",
    "    return labels"
   ]
  },
  {
   "cell_type": "code",
   "execution_count": 8,
   "metadata": {},
   "outputs": [],
   "source": [
    "# for each area, find the points in it and perform local DBSCAN\n",
    "import sys\n",
    "def local_dbscan(data, eps, min_pts):\n",
    "    '''\n",
    "    data: np.array, shape (n, 3)\n",
    "    '''\n",
    "    data_id = data[:, 0]\n",
    "    data = data[:, 1:]\n",
    "    # print('will call dbscan with data shape:', data.shape)\n",
    "    label_pred = dbscan_inline(data, eps, min_pts)\n",
    "    return list(zip(data_id, label_pred))\n",
    "\n",
    "data_id_label_pred_list = area_id_np_array.mapValues(lambda x: local_dbscan(x, EPSILON, MIN_PTS))"
   ]
  },
  {
   "cell_type": "code",
   "execution_count": 9,
   "metadata": {},
   "outputs": [],
   "source": [
    "def transform(i: int, S: int, k, noise_label=-2) -> int:\n",
    "    '''\n",
    "    i: split id\n",
    "    S: total number of splits\n",
    "    k: the cluster id in split #i\n",
    "    '''\n",
    "    if k == noise_label:\n",
    "        return noise_label\n",
    "    else:\n",
    "        return (k-1)*S + i"
   ]
  },
  {
   "cell_type": "code",
   "execution_count": 29,
   "metadata": {},
   "outputs": [
    {
     "name": "stdout",
     "output_type": "stream",
     "text": [
      "S: 24\n"
     ]
    }
   ],
   "source": [
    "S = len(area_list)\n",
    "print('S:', S)\n",
    "data_id_corrected_label_pred_list = data_id_label_pred_list.map(lambda x: (x[0], [(y[0], transform(x[0], S, y[1])) for y in x[1]]))\\\n",
    "    .flatMap(lambda x: x[1])\\\n",
    "    .map(lambda x: (x[0], [x[1]]))\\\n",
    "    .reduceByKey(lambda x, y: x + y)\\\n",
    "    .sortByKey().cache()\n",
    "    # key = data_id, value = [label1, label2, ...]\n",
    "set_list = data_id_corrected_label_pred_list.filter(lambda x: len(set(x[1])) > 1).collect()\n",
    "\n",
    "def select_temp_label(label_list):\n",
    "    label_list = sorted(label_list)\n",
    "    if len(label_list) == 1:\n",
    "        return label_list[0]\n",
    "    else:\n",
    "        return label_list[1]\n",
    "data_id_temp_label = data_id_corrected_label_pred_list.mapValues(select_temp_label)"
   ]
  },
  {
   "cell_type": "code",
   "execution_count": 32,
   "metadata": {},
   "outputs": [
    {
     "name": "stdout",
     "output_type": "stream",
     "text": [
      "merged_set_list: [{16, 17, 12, 13}, {37, 9, 10, 14}, {0, 33, 1, 4, 5, 8}, {40, 41, 43, 18, 19, 20, 21, 22, 23}]\n",
      "cluster_map: {17: 16, 12: 16, 13: 16, 9: 37, 10: 37, 14: 37, 33: 0, 1: 0, 4: 0, 5: 0, 8: 0, 41: 40, 43: 40, 18: 40, 19: 40, 20: 40, 21: 40, 22: 40, 23: 40}\n"
     ]
    }
   ],
   "source": [
    "# not_noise_data_cluster = dict()\n",
    "real_set_list = []\n",
    "for data_id, cluster_list in set_list:\n",
    "    if NOISE_LABEL in cluster_list:\n",
    "        cluster_list.remove(NOISE_LABEL)\n",
    "        assert NOISE_LABEL not in cluster_list\n",
    "        # not_noise_data_cluster[data_id] = cluster_list[0]\n",
    "    cluster_set = set(cluster_list)\n",
    "    if cluster_set not in real_set_list:\n",
    "        real_set_list.append(cluster_set)\n",
    "# print('real_set_list:', real_set_list)\n",
    "\n",
    "def merge_intersecting_sets(set_list):\n",
    "        merged_sets = []\n",
    "        while set_list:\n",
    "            current_set = set_list.pop(0)  # 从list中取出一个集合\n",
    "            merged = None\n",
    "            # 查找第一个与current_set有交集的集合\n",
    "            for i, merged_set in enumerate(merged_sets):\n",
    "                if merged_set & current_set:\n",
    "                    merged_set.update(current_set)\n",
    "                    merged = i\n",
    "                    break\n",
    "            if merged is None:  # 没有发现交集\n",
    "                merged_sets.append(current_set)\n",
    "            else:  # 发现交集，再次合并可能的交集\n",
    "                new_merged_set = merged_sets.pop(merged)\n",
    "                set_list.append(new_merged_set)  # 将更新后的集合重新加入检查\n",
    "        return merged_sets\n",
    "\n",
    "merged_set_list = merge_intersecting_sets(real_set_list)\n",
    "print('merged_set_list:', merged_set_list)\n",
    "# print('not_noise_data_cluster:', not_noise_data_cluster)\n",
    "\n",
    "cluster_map = dict()\n",
    "for merged_set in merged_set_list:\n",
    "    if len(merged_set) < 2:\n",
    "        continue\n",
    "    merged_set = list(merged_set)\n",
    "    for i in range(1, len(merged_set)):\n",
    "        cluster_map[merged_set[i]] = merged_set[0]\n",
    "print('cluster_map:', cluster_map)"
   ]
  },
  {
   "cell_type": "code",
   "execution_count": 33,
   "metadata": {},
   "outputs": [],
   "source": [
    "# map and find the final cluster\n",
    "def get_final_cluster(in_label):\n",
    "    global cluster_map\n",
    "    if cluster_map.get(in_label) is not None:\n",
    "        return cluster_map[in_label]\n",
    "    else:\n",
    "        return in_label\n",
    "\n",
    "data_id_final_cluster = data_id_temp_label.mapValues(get_final_cluster)"
   ]
  },
  {
   "cell_type": "code",
   "execution_count": 36,
   "metadata": {},
   "outputs": [],
   "source": [
    "import sys\n",
    "sys.path.append('..')\n",
    "from utils import visualization"
   ]
  },
  {
   "cell_type": "code",
   "execution_count": 42,
   "metadata": {},
   "outputs": [
    {
     "data": {
      "text/plain": [
       "array([[54620, 43523],\n",
       "       [52694, 42750],\n",
       "       [53253, 43024],\n",
       "       ...,\n",
       "       [40028, 44930],\n",
       "       [37346, 45508],\n",
       "       [38863, 44153]])"
      ]
     },
     "execution_count": 42,
     "metadata": {},
     "output_type": "execute_result"
    }
   ],
   "source": [
    "dataset_array = np.array(dataset.values().collect())\n",
    "dataset_array"
   ]
  },
  {
   "cell_type": "code",
   "execution_count": 46,
   "metadata": {},
   "outputs": [
    {
     "data": {
      "image/png": "[encoded data removed]",
      "text/plain": [
       "<Figure size 640x480 with 1 Axes>"
      ]
     },
     "metadata": {},
     "output_type": "display_data"
    }
   ],
   "source": [
    "visualization.visualize_dataset_with_label(dataset_array, np.array(data_id_final_cluster.values().collect()))"
   ]
  },
  {
   "cell_type": "code",
   "execution_count": null,
   "metadata": {},
   "outputs": [],
   "source": []
  }
 ],
 "metadata": {
  "kernelspec": {
   "display_name": "python3.10",
   "language": "python",
   "name": "python3.10"
  },
  "language_info": {
   "codemirror_mode": {
    "name": "ipython",
    "version": 3
   },
   "file_extension": ".py",
   "mimetype": "text/x-python",
   "name": "python",
   "nbconvert_exporter": "python",
   "pygments_lexer": "ipython3",
   "version": "3.10.13"
  }
 },
 "nbformat": 4,
 "nbformat_minor": 2
}
