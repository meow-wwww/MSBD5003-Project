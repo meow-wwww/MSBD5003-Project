{
 "cells": [
  {
   "cell_type": "code",
   "execution_count": 1,
   "metadata": {},
   "outputs": [],
   "source": [
    "import warnings\n",
    "warnings.filterwarnings('ignore')\n",
    "\n",
    "import matplotlib.pyplot as plt\n",
    "import numpy as np\n",
    "import time, datetime"
   ]
  },
  {
   "cell_type": "code",
   "execution_count": 2,
   "metadata": {},
   "outputs": [],
   "source": [
    "FILE_PATH = \"/Users/apple/spark/data/project/A-sets/a1.txt\"\n",
    "\n",
    "MIN_PTS = 4\n",
    "EPSILON = 900\n",
    "X_UNIT, Y_UNIT = 5000, 5000\n",
    "SPAN_MARGIN = EPSILON/2 + 1\n",
    "NOISE_LABEL = -2\n",
    "DATA_NUM = 50"
   ]
  },
  {
   "cell_type": "code",
   "execution_count": 3,
   "metadata": {},
   "outputs": [
    {
     "name": "stderr",
     "output_type": "stream",
     "text": [
      "                                                                                \r"
     ]
    },
    {
     "data": {
      "text/plain": [
       "<matplotlib.collections.PathCollection at 0x7fc6c980ffa0>"
      ]
     },
     "execution_count": 3,
     "metadata": {},
     "output_type": "execute_result"
    },
    {
     "data": {
      "image/png": "[encoded data removed]",
      "text/plain": [
       "<Figure size 640x480 with 1 Axes>"
      ]
     },
     "metadata": {},
     "output_type": "display_data"
    }
   ],
   "source": [
    "# read and organize the data as RDD\n",
    "def parse_line(line):\n",
    "    return [int(x) for x in line.strip().split()]\n",
    "\n",
    "dataset = sc.textFile(FILE_PATH)\\\n",
    "    .map(parse_line)\\\n",
    "    .zipWithIndex().map(lambda x: (x[1], x[0])).repartition(2)\\\n",
    "    .filter(lambda x: x[0] < DATA_NUM) # only keep the first DATA_NUM points    \n",
    "    \n",
    "plt.scatter(dataset.map(lambda x: x[1][0]).collect(), dataset.map(lambda x: x[1][1]).collect(), s=1)"
   ]
  },
  {
   "cell_type": "code",
   "execution_count": 11,
   "metadata": {},
   "outputs": [
    {
     "data": {
      "text/plain": [
       "[(46, [50478, 42084])]"
      ]
     },
     "execution_count": 11,
     "metadata": {},
     "output_type": "execute_result"
    }
   ],
   "source": [
    "dataset.filter(lambda x: x[0] == 46).collect()"
   ]
  },
  {
   "cell_type": "code",
   "execution_count": 12,
   "metadata": {},
   "outputs": [
    {
     "name": "stdout",
     "output_type": "stream",
     "text": [
      "50478 57115 39356 45077 \n",
      "length: 6637 5721\n",
      "after generating area_list, time used: 0.47390222549438477\n",
      "area_list_rdd.count(): 4\n"
     ]
    }
   ],
   "source": [
    "start_time = time.time()\n",
    "\n",
    "x_min, x_max = dataset.map(lambda x: x[1][0]).min(), dataset.map(lambda x: x[1][0]).max()\n",
    "y_min, y_max = dataset.map(lambda x: x[1][1]).min(), dataset.map(lambda x: x[1][1]).max()\n",
    "print(x_min, x_max, y_min, y_max, '\\nlength:', x_max-x_min, y_max-y_min)\n",
    "\n",
    "x_grid = list(range(x_min, x_max + X_UNIT, X_UNIT))\n",
    "y_grid = list(range(y_min, y_max + Y_UNIT, Y_UNIT))\n",
    "\n",
    "area_list = []\n",
    "area_cnt = 0\n",
    "for x_idx, x_start in enumerate(x_grid[:-1]):\n",
    "    for y_idx, y_start in enumerate(y_grid[:-1]):\n",
    "        x_start_adjusted = x_start - SPAN_MARGIN\n",
    "        y_start_adjusted = y_start - SPAN_MARGIN\n",
    "        x_end_adjusted = x_grid[x_idx+1] + SPAN_MARGIN\n",
    "        y_end_adjusted = y_grid[y_idx+1] + SPAN_MARGIN\n",
    "        area_list.append([area_cnt, x_start_adjusted, x_end_adjusted, y_start_adjusted, y_end_adjusted])\n",
    "        area_cnt += 1\n",
    "assert len(area_list) == (len(x_grid)-1)*(len(y_grid)-1)\n",
    "\n",
    "print(f'after generating area_list, time used: {time.time()-start_time}')\n",
    "# organize the area into an RDD\n",
    "# area_list_rdd = sc.parallelize(area_list)\n",
    "print(f'area_list_rdd.count(): {len(area_list)}')\n"
   ]
  },
  {
   "cell_type": "code",
   "execution_count": 13,
   "metadata": {},
   "outputs": [],
   "source": [
    "\n",
    "# for each point, find the area it belongs to (a point can belong to multiple areas)\n",
    "def find_area(point):\n",
    "    global area_list\n",
    "    x, y = point\n",
    "    area_idx_list = []\n",
    "    for area in area_list:\n",
    "        if area[1] <= x <= area[2] and area[3] <= y <= area[4]:\n",
    "            area_idx_list.append(area[0])\n",
    "    return area_idx_list\n",
    "\n",
    "data_id_cluster_id_list = dataset.map(lambda x: (x[0], find_area(x[1]), x[1]))\n",
    "# format: (data_id, [area_id1, area_id2, ...], (x, y))\n",
    "\n",
    "# key: area_id\n",
    "# value: [(point_id, (x, y)), (point_id, (x,y)), ...])\n",
    "area_id_point_id_list = data_id_cluster_id_list.flatMap(\n",
    "    lambda x: [(area_id, (x[0], x[2])) for area_id in x[1]])\\\n",
    "    .groupByKey().map(lambda x: (x[0], list(x[1])))\n",
    "\n",
    "# convert the data in an area to a numpy array\n",
    "# 3 columns: data_id, x, y\n",
    "def convert_to_np_array(data_list):\n",
    "    return np.array([[x[0], x[1][0], x[1][1]] for x in data_list])\n",
    "\n",
    "area_id_np_array = area_id_point_id_list.mapValues(convert_to_np_array)\n",
    "# key: area_id\n",
    "# value: np.array, shape=(n, 3)"
   ]
  },
  {
   "cell_type": "code",
   "execution_count": null,
   "metadata": {},
   "outputs": [],
   "source": [
    "# test\n",
    "data_split = area_id_np_array.take(1)[0][1]\n",
    "label_tmp = dbscan_inline(data_split, EPSILON, MIN_PTS)\n",
    "\n",
    "tmp_noise = data_split[np.where(label_tmp == -2)[0]]\n",
    "tmp_cluster = data_split[np.where(label_tmp != -2)[0]]\n",
    "\n",
    "plt.scatter(tmp_noise[:, 1], tmp_noise[:, 2], s=5, c='r')\n",
    "plt.scatter(tmp_cluster[:, 1], tmp_cluster[:, 2], s=1, c='b')\n",
    "\n",
    "print(tmp_noise)"
   ]
  },
  {
   "cell_type": "code",
   "execution_count": 16,
   "metadata": {},
   "outputs": [
    {
     "name": "stdout",
     "output_type": "stream",
     "text": [
      "after local dbscan, time used: 94.20331120491028\n"
     ]
    }
   ],
   "source": [
    "\n",
    "def dbscan_inline(data, eps, min_pts):\n",
    "    '''\n",
    "    data: np.array, shape=(N, 2)\n",
    "    eps: float\n",
    "    min_pts: int\n",
    "    \n",
    "    Returns:\n",
    "    labels: np.array, shape=(N,)\n",
    "    '''\n",
    "    def find_neighbors(data, point, eps):\n",
    "        neighbors_id = []\n",
    "        for i, p in enumerate(data):\n",
    "            if np.linalg.norm(p - point) < eps:\n",
    "                neighbors_id.append(i)\n",
    "        return neighbors_id\n",
    "    \n",
    "    N = data.shape[0]\n",
    "    labels = np.zeros(N, dtype=int) - 1 # -1: unclassified; -2: noise; 1, 2, 3, ...: cluster id\n",
    "    c = 0\n",
    "    for i in range(N):\n",
    "        if labels[i] != -1:\n",
    "            continue\n",
    "        neighbors_id = find_neighbors(data, data[i], eps)\n",
    "        if len(neighbors_id) < min_pts:\n",
    "            labels[i] = -2\n",
    "            continue\n",
    "        c += 1\n",
    "        labels[i] = c\n",
    "        neighbors_id_prime = neighbors_id.copy()\n",
    "        assert i in neighbors_id_prime\n",
    "        neighbors_id_prime.remove(i)\n",
    "        for j in neighbors_id_prime:\n",
    "            if labels[j] == -2:\n",
    "                labels[j] = c\n",
    "            if labels[j] != -1:\n",
    "                continue\n",
    "            labels[j] = c\n",
    "            neighbors_j = find_neighbors(data, data[j], eps)\n",
    "            if len(neighbors_j) >= min_pts:\n",
    "                neighbors_id_prime += neighbors_j\n",
    "    return labels\n",
    "\n",
    "# for each area, find the points in it and perform local DBSCAN\n",
    "import sys\n",
    "def local_dbscan(data, eps, min_pts):\n",
    "    '''\n",
    "    data: np.array, shape (n, 3)\n",
    "    '''\n",
    "    data_id = data[:, 0]\n",
    "    data = data[:, 1:]\n",
    "    # print('will call dbscan with data shape:', data.shape)\n",
    "    label_pred = dbscan_inline(data, eps, min_pts)\n",
    "    return list(zip(data_id, label_pred))\n",
    "\n",
    "data_id_label_pred_list = area_id_np_array.mapValues(lambda x: local_dbscan(x, EPSILON, MIN_PTS))\n",
    "# key: area_id\n",
    "# value: [(data_id, local_label), (data_id, local_label), ...]\n",
    "\n",
    "print('after local dbscan, time used:', time.time()-start_time)\n"
   ]
  },
  {
   "cell_type": "code",
   "execution_count": 18,
   "metadata": {},
   "outputs": [
    {
     "data": {
      "text/plain": [
       "[(0,\n",
       "  [(0, 1),\n",
       "   (1, 1),\n",
       "   (2, 1),\n",
       "   (3, 1),\n",
       "   (4, 1),\n",
       "   (5, 1),\n",
       "   (6, -2),\n",
       "   (8, 1),\n",
       "   (9, 1),\n",
       "   (20, 1),\n",
       "   (21, 1),\n",
       "   (22, -2),\n",
       "   (23, 1),\n",
       "   (24, 1),\n",
       "   (25, 1),\n",
       "   (26, 1),\n",
       "   (28, 1),\n",
       "   (29, 1),\n",
       "   (40, -2),\n",
       "   (41, 1),\n",
       "   (42, 1),\n",
       "   (43, 1),\n",
       "   (45, 1),\n",
       "   (46, -2),\n",
       "   (47, 1),\n",
       "   (48, 1),\n",
       "   (49, 1),\n",
       "   (10, 1),\n",
       "   (11, 1),\n",
       "   (12, 1),\n",
       "   (13, -2),\n",
       "   (14, 1),\n",
       "   (15, 1),\n",
       "   (16, 1),\n",
       "   (17, 1),\n",
       "   (19, 1),\n",
       "   (30, 1),\n",
       "   (31, 1),\n",
       "   (32, 1),\n",
       "   (33, 1),\n",
       "   (36, 1),\n",
       "   (38, -2),\n",
       "   (39, 1)]),\n",
       " (2,\n",
       "  [(6, -2),\n",
       "   (8, 1),\n",
       "   (21, 1),\n",
       "   (22, 2),\n",
       "   (26, 2),\n",
       "   (28, 1),\n",
       "   (29, 2),\n",
       "   (44, -2),\n",
       "   (49, 2),\n",
       "   (12, 1),\n",
       "   (14, 1),\n",
       "   (18, 2),\n",
       "   (31, 2),\n",
       "   (32, 1),\n",
       "   (33, 1),\n",
       "   (34, -2)]),\n",
       " (1,\n",
       "  [(4, 1),\n",
       "   (7, -2),\n",
       "   (8, 1),\n",
       "   (9, 1),\n",
       "   (21, 1),\n",
       "   (27, 1),\n",
       "   (28, 1),\n",
       "   (41, 1),\n",
       "   (10, 1),\n",
       "   (14, 1),\n",
       "   (35, 1),\n",
       "   (37, 1)]),\n",
       " (3, [(8, 1), (21, 1), (28, 1), (14, 1), (34, -2)])]"
      ]
     },
     "execution_count": 18,
     "metadata": {},
     "output_type": "execute_result"
    }
   ],
   "source": [
    "# test\n",
    "data_id_label_pred_list.collect()"
   ]
  },
  {
   "cell_type": "code",
   "execution_count": 19,
   "metadata": {},
   "outputs": [
    {
     "name": "stdout",
     "output_type": "stream",
     "text": [
      "S: 4\n"
     ]
    }
   ],
   "source": [
    "\n",
    "def transform_label(i: int, S: int, k, noise_label=-2) -> int:\n",
    "    '''\n",
    "    i: split id\n",
    "    S: total number of splits\n",
    "    k: the cluster id in split #i\n",
    "    '''\n",
    "    if k == noise_label:\n",
    "        return noise_label\n",
    "    else:\n",
    "        return (k-1)*S + i\n",
    "\n",
    "\n",
    "S = len(area_list)\n",
    "print('S:', S)\n",
    "data_id_corrected_label_pred_list = data_id_label_pred_list.map(lambda x: (x[0], [(y[0], transform_label(i=x[0], S=S, k=y[1])) for y in x[1]]))\\\n",
    "    .flatMap(lambda x: x[1])\\\n",
    "    .map(lambda x: (x[0], [x[1]]))\\\n",
    "    .reduceByKey(lambda x, y: x + y)\n",
    "    # .cache()\n",
    "    # .sortByKey().cache()\n",
    "    # key = data_id, value = [label1, label2, ...]\n"
   ]
  },
  {
   "cell_type": "code",
   "execution_count": 20,
   "metadata": {},
   "outputs": [
    {
     "data": {
      "text/plain": [
       "[(0, [0]),\n",
       " (2, [0]),\n",
       " (4, [0, 1]),\n",
       " (6, [-2, -2]),\n",
       " (8, [0, 2, 1, 3]),\n",
       " (20, [0]),\n",
       " (22, [-2, 6]),\n",
       " (24, [0]),\n",
       " (26, [0, 6]),\n",
       " (28, [0, 2, 1, 3]),\n",
       " (40, [-2]),\n",
       " (42, [0]),\n",
       " (46, [-2]),\n",
       " (48, [0]),\n",
       " (10, [0, 1]),\n",
       " (12, [0, 2]),\n",
       " (14, [0, 2, 1, 3]),\n",
       " (16, [0]),\n",
       " (30, [0]),\n",
       " (32, [0, 2]),\n",
       " (36, [0]),\n",
       " (38, [-2]),\n",
       " (44, [-2]),\n",
       " (18, [6]),\n",
       " (34, [-2, -2]),\n",
       " (1, [0]),\n",
       " (3, [0]),\n",
       " (5, [0]),\n",
       " (9, [0, 1]),\n",
       " (21, [0, 2, 1, 3]),\n",
       " (23, [0]),\n",
       " (25, [0]),\n",
       " (29, [0, 6]),\n",
       " (41, [0, 1]),\n",
       " (43, [0]),\n",
       " (45, [0]),\n",
       " (47, [0]),\n",
       " (49, [0, 6]),\n",
       " (11, [0]),\n",
       " (13, [-2]),\n",
       " (15, [0]),\n",
       " (17, [0]),\n",
       " (19, [0]),\n",
       " (31, [0, 6]),\n",
       " (33, [0, 2]),\n",
       " (39, [0]),\n",
       " (7, [-2]),\n",
       " (27, [1]),\n",
       " (35, [1]),\n",
       " (37, [1])]"
      ]
     },
     "execution_count": 20,
     "metadata": {},
     "output_type": "execute_result"
    }
   ],
   "source": [
    "# test\n",
    "data_id_corrected_label_pred_list.collect()"
   ]
  },
  {
   "cell_type": "code",
   "execution_count": 21,
   "metadata": {},
   "outputs": [],
   "source": [
    "\n",
    "set_list = data_id_corrected_label_pred_list.filter(lambda x: len(set(x[1])) > 1)\n",
    "# key = data_id, value = [label1, label2, ...]\n"
   ]
  },
  {
   "cell_type": "code",
   "execution_count": 22,
   "metadata": {},
   "outputs": [
    {
     "data": {
      "text/plain": [
       "[(4, [0, 1]),\n",
       " (8, [0, 2, 1, 3]),\n",
       " (22, [-2, 6]),\n",
       " (26, [0, 6]),\n",
       " (28, [0, 2, 1, 3]),\n",
       " (10, [0, 1]),\n",
       " (12, [0, 2]),\n",
       " (14, [0, 2, 1, 3]),\n",
       " (32, [0, 2]),\n",
       " (9, [0, 1]),\n",
       " (21, [0, 2, 1, 3]),\n",
       " (29, [0, 6]),\n",
       " (41, [0, 1]),\n",
       " (49, [0, 6]),\n",
       " (31, [0, 6]),\n",
       " (33, [0, 2])]"
      ]
     },
     "execution_count": 22,
     "metadata": {},
     "output_type": "execute_result"
    }
   ],
   "source": [
    "# test\n",
    "set_list.collect()"
   ]
  },
  {
   "cell_type": "code",
   "execution_count": 23,
   "metadata": {},
   "outputs": [],
   "source": [
    "\n",
    "data_id_temp_label = data_id_corrected_label_pred_list.mapValues(lambda x: sorted(x)[-1])\n",
    "\n"
   ]
  },
  {
   "cell_type": "code",
   "execution_count": 24,
   "metadata": {},
   "outputs": [
    {
     "data": {
      "text/plain": [
       "[(0, 0),\n",
       " (2, 0),\n",
       " (4, 1),\n",
       " (6, -2),\n",
       " (8, 3),\n",
       " (20, 0),\n",
       " (22, 6),\n",
       " (24, 0),\n",
       " (26, 6),\n",
       " (28, 3),\n",
       " (40, -2),\n",
       " (42, 0),\n",
       " (46, -2),\n",
       " (48, 0),\n",
       " (10, 1),\n",
       " (12, 2),\n",
       " (14, 3),\n",
       " (16, 0),\n",
       " (30, 0),\n",
       " (32, 2),\n",
       " (36, 0),\n",
       " (38, -2),\n",
       " (44, -2),\n",
       " (18, 6),\n",
       " (34, -2),\n",
       " (1, 0),\n",
       " (3, 0),\n",
       " (5, 0),\n",
       " (9, 1),\n",
       " (21, 3),\n",
       " (23, 0),\n",
       " (25, 0),\n",
       " (29, 6),\n",
       " (41, 1),\n",
       " (43, 0),\n",
       " (45, 0),\n",
       " (47, 0),\n",
       " (49, 6),\n",
       " (11, 0),\n",
       " (13, -2),\n",
       " (15, 0),\n",
       " (17, 0),\n",
       " (19, 0),\n",
       " (31, 6),\n",
       " (33, 2),\n",
       " (39, 0),\n",
       " (7, -2),\n",
       " (27, 1),\n",
       " (35, 1),\n",
       " (37, 1)]"
      ]
     },
     "execution_count": 24,
     "metadata": {},
     "output_type": "execute_result"
    }
   ],
   "source": [
    "# test\n",
    "data_id_temp_label.filter(lambda x: x[1] == -2).collect()\n",
    "\n",
    "data_id_temp_label.collect()"
   ]
  },
  {
   "cell_type": "code",
   "execution_count": 25,
   "metadata": {},
   "outputs": [],
   "source": [
    "\n",
    "def remove_noise_label_from_list(label_list, noise_label=-2):\n",
    "    return [x for x in label_list if x != noise_label]\n",
    "\n",
    "# def merge_sets(list1, list2):\n",
    "#     # 将两个列表合并为一个列表\n",
    "#     combined = list1 + list2\n",
    "#     # 使用类似上面改进的合并逻辑\n",
    "#     result = []\n",
    "#     while combined:\n",
    "#         current = combined.pop(0)\n",
    "#         merged = None\n",
    "#         for i, exist in enumerate(result):\n",
    "#             if exist.intersection(current):\n",
    "#                 exist.update(current)\n",
    "#                 merged = i\n",
    "#                 break\n",
    "#         if merged is None:\n",
    "#             result.append(current)\n",
    "#         else:\n",
    "#             new_merged = result.pop(merged)\n",
    "#             combined.append(new_merged)\n",
    "#     return result\n",
    "\n",
    "def merge_intersecting_sets(set_list):\n",
    "        merged_sets = []\n",
    "        while set_list:\n",
    "            current_set = set_list.pop(0)  # 从list中取出一个集合\n",
    "            merged = None\n",
    "            # 查找第一个与current_set有交集的集合\n",
    "            for i, merged_set in enumerate(merged_sets):\n",
    "                if merged_set & current_set:\n",
    "                    merged_set.update(current_set)\n",
    "                    merged = i\n",
    "                    break\n",
    "            if merged is None:  # 没有发现交集\n",
    "                merged_sets.append(current_set)\n",
    "            else:  # 发现交集，再次合并可能的交集\n",
    "                new_merged_set = merged_sets.pop(merged)\n",
    "                set_list.append(new_merged_set)  # 将更新后的集合重新加入检查\n",
    "        return merged_sets\n",
    "\n",
    "def merge_sets_new(list1, list2):\n",
    "    # 将两个列表合并为一个列表\n",
    "    combined = list1 + list2\n",
    "    merged_sets = merge_intersecting_sets(combined)\n",
    "    return merged_sets\n",
    "\n",
    "\n",
    "merged_set_list = set_list.mapValues(remove_noise_label_from_list)\\\n",
    "    .mapValues(lambda x: [set(x)])\\\n",
    "    .values().treeReduce(lambda x, y: merge_sets_new(x, y))\n"
   ]
  },
  {
   "cell_type": "code",
   "execution_count": 26,
   "metadata": {},
   "outputs": [
    {
     "data": {
      "text/plain": [
       "[{0, 1, 2, 3, 6}]"
      ]
     },
     "execution_count": 26,
     "metadata": {},
     "output_type": "execute_result"
    }
   ],
   "source": [
    "merged_set_list"
   ]
  },
  {
   "cell_type": "code",
   "execution_count": 27,
   "metadata": {},
   "outputs": [
    {
     "name": "stdout",
     "output_type": "stream",
     "text": [
      "after merging intersecting sets, time used: 149.03797721862793\n",
      "cluster_map: {1: 0, 2: 0, 3: 0, 6: 0}\n",
      "time used: 149.03872418403625\n"
     ]
    }
   ],
   "source": [
    "\n",
    "# merged_set_list = merge_intersecting_sets(real_set_list)\n",
    "# # print('merged_set_list:', merged_set_list)\n",
    "# # print('not_noise_data_cluster:', not_noise_data_cluster)\n",
    "\n",
    "print('after merging intersecting sets, time used:', time.time()-start_time)\n",
    "\n",
    "cluster_map = dict()\n",
    "for merged_set in merged_set_list:\n",
    "    if len(merged_set) < 2:\n",
    "        continue\n",
    "    merged_set = list(merged_set)\n",
    "    for i in range(1, len(merged_set)):\n",
    "        cluster_map[merged_set[i]] = merged_set[0]\n",
    "        \n",
    "print('cluster_map:', cluster_map)\n",
    "\n",
    "# map and find the final cluster\n",
    "def get_final_cluster(in_label):\n",
    "    global cluster_map\n",
    "    if cluster_map.get(in_label) is not None:\n",
    "        return cluster_map[in_label]\n",
    "    else:\n",
    "        return in_label\n",
    "\n",
    "data_id_final_cluster = data_id_temp_label.mapValues(get_final_cluster)\n",
    "\n",
    "print('time used:', time.time()-start_time)"
   ]
  },
  {
   "cell_type": "code",
   "execution_count": 28,
   "metadata": {},
   "outputs": [
    {
     "data": {
      "text/plain": [
       "[(0, 0),\n",
       " (2, 0),\n",
       " (4, 0),\n",
       " (6, -2),\n",
       " (8, 0),\n",
       " (20, 0),\n",
       " (22, 0),\n",
       " (24, 0),\n",
       " (26, 0),\n",
       " (28, 0),\n",
       " (40, -2),\n",
       " (42, 0),\n",
       " (46, -2),\n",
       " (48, 0),\n",
       " (10, 0),\n",
       " (12, 0),\n",
       " (14, 0),\n",
       " (16, 0),\n",
       " (30, 0),\n",
       " (32, 0),\n",
       " (36, 0),\n",
       " (38, -2),\n",
       " (44, -2),\n",
       " (18, 0),\n",
       " (34, -2),\n",
       " (1, 0),\n",
       " (3, 0),\n",
       " (5, 0),\n",
       " (9, 0),\n",
       " (21, 0),\n",
       " (23, 0),\n",
       " (25, 0),\n",
       " (29, 0),\n",
       " (41, 0),\n",
       " (43, 0),\n",
       " (45, 0),\n",
       " (47, 0),\n",
       " (49, 0),\n",
       " (11, 0),\n",
       " (13, -2),\n",
       " (15, 0),\n",
       " (17, 0),\n",
       " (19, 0),\n",
       " (31, 0),\n",
       " (33, 0),\n",
       " (39, 0),\n",
       " (7, -2),\n",
       " (27, 0),\n",
       " (35, 0),\n",
       " (37, 0)]"
      ]
     },
     "execution_count": 28,
     "metadata": {},
     "output_type": "execute_result"
    }
   ],
   "source": [
    "# test\n",
    "data_id_final_cluster.collect()"
   ]
  },
  {
   "cell_type": "code",
   "execution_count": 36,
   "metadata": {},
   "outputs": [
    {
     "data": {
      "image/png": "[encoded data removed]",
      "text/plain": [
       "<Figure size 640x480 with 1 Axes>"
      ]
     },
     "metadata": {},
     "output_type": "display_data"
    }
   ],
   "source": [
    "\n",
    "import sys\n",
    "sys.path.append('..')\n",
    "from utils import visualization\n",
    "from importlib import reload\n",
    "reload(visualization)\n",
    "dataset_array = np.array(dataset.sortByKey().values().collect())#[data_id_final_cluster.keys().collect()]\n",
    "visualization.visualize_dataset_with_label(dataset_array,\n",
    "                                           label=np.array(data_id_final_cluster.sortByKey().values().collect()),\n",
    "                                           split_list=area_list)"
   ]
  },
  {
   "cell_type": "code",
   "execution_count": null,
   "metadata": {},
   "outputs": [],
   "source": []
  }
 ],
 "metadata": {
  "kernelspec": {
   "display_name": "python3.10",
   "language": "python",
   "name": "python3.10"
  },
  "language_info": {
   "codemirror_mode": {
    "name": "ipython",
    "version": 3
   },
   "file_extension": ".py",
   "mimetype": "text/x-python",
   "name": "python",
   "nbconvert_exporter": "python",
   "pygments_lexer": "ipython3",
   "version": "3.10.13"
  }
 },
 "nbformat": 4,
 "nbformat_minor": 2
}
